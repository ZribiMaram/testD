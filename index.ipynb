{
 "cells": [
  {
   "cell_type": "code",
   "execution_count": 7,
   "metadata": {},
   "outputs": [],
   "source": [
    "import tensorflow as tf\n",
    "from tensorflow.keras.preprocessing.image import ImageDataGenerator\n",
    "import matplotlib.pyplot as plt\n",
    "import os\n",
    "from tensorflow.keras.applications import MobileNetV2\n",
    "from tensorflow.keras.models import Model\n",
    "from tensorflow.keras.layers import Dense, GlobalAveragePooling2D, Dropout\n",
    "from tensorflow.keras.preprocessing.image import ImageDataGenerator\n",
    "from tensorflow.keras.optimizers import Adam\n",
    "import matplotlib.pyplot as plt\n"
   ]
  },
  {
   "cell_type": "code",
   "execution_count": 3,
   "metadata": {},
   "outputs": [
    {
     "name": "stdout",
     "output_type": "stream",
     "text": [
      "File not found: ./detection_tunisian_food\\valid\\recipe_image_9_12_jpg.rf.00629e519f18860ec5413901ae60ef0e.jpg\n",
      "File not found: ./detection_tunisian_food\\valid\\images-5-_jpeg.rf.05d093ba9376b96ca452f3b165876f0a.jpg\n",
      "File not found: ./detection_tunisian_food\\valid\\recipe_image_14_15_jpg.rf.30189aea4fad1c2b80c3438b73fbffd4.jpg\n",
      "File not found: ./detection_tunisian_food\\valid\\Baklawa-facile_jpg.rf.3d974c3e09ab69cc774a0c7534a8e78b.jpg\n",
      "File not found: ./detection_tunisian_food\\valid\\recipe_image_9_96_jpg.rf.8e24cdbde809dee8e5c6451b5dd247cb.jpg\n",
      "File not found: ./detection_tunisian_food\\valid\\recipe_image_9_96_jpg.rf.8e24cdbde809dee8e5c6451b5dd247cb.jpg\n",
      "File not found: ./detection_tunisian_food\\valid\\6_jpeg.rf.9249ca9bba69f9228529d829097259ab.jpg\n",
      "File not found: ./detection_tunisian_food\\valid\\frecasee_jpeg.rf.9dba78161833e1474410e00e7a370134.jpg\n",
      "File not found: ./detection_tunisian_food\\valid\\498382_jpg.rf.a5638d372dc69d7f3a9ba3c778becce2.jpg\n",
      "File not found: ./detection_tunisian_food\\valid\\498382_jpg.rf.a5638d372dc69d7f3a9ba3c778becce2.jpg\n",
      "File not found: ./detection_tunisian_food\\valid\\recipe_image_29_16_jpg.rf.cb06b7ec6a25c8a7a02e2821164c86c1.jpg\n",
      "File not found: ./detection_tunisian_food\\valid\\53_jpg.rf.cb4533cd5a3c6b9f52d7eec63417700f.jpg\n",
      "File not found: ./detection_tunisian_food\\valid\\34_jpg.rf.d62dd6ff37fc9806076063a377c50624.jpg\n",
      "File not found: ./detection_tunisian_food\\valid\\34_jpg.rf.d62dd6ff37fc9806076063a377c50624.jpg\n",
      "File not found: ./detection_tunisian_food\\valid\\70_jpeg.rf.d24d9a81e4e4a55b948261f713f2bff0.jpg\n",
      "File not found: ./detection_tunisian_food\\valid\\22_jpeg.rf.e00cf2c17cfa72f85c9e91c7ef94d277.jpg\n",
      "File not found: ./detection_tunisian_food\\valid\\22_jpeg.rf.e00cf2c17cfa72f85c9e91c7ef94d277.jpg\n",
      "File not found: ./detection_tunisian_food\\valid\\13_jpeg.rf.dfacba01b20661a728f055a06792ec02.jpg\n",
      "File not found: ./detection_tunisian_food\\valid\\88_jpg.rf.d849c81bcbbb6ac70d17fe4663794442.jpg\n",
      "File not found: ./detection_tunisian_food\\valid\\26_jpeg.rf.fe1e94c19cd5004483a21a6c6dd81161.jpg\n",
      "File not found: ./detection_tunisian_food\\valid\\26_jpeg.rf.fe1e94c19cd5004483a21a6c6dd81161.jpg\n",
      "File not found: ./detection_tunisian_food\\valid\\26_jpeg.rf.fe1e94c19cd5004483a21a6c6dd81161.jpg\n",
      "File not found: ./detection_tunisian_food\\valid\\recipe_image_13_18_jpg.rf.f890700cfebc876b01ba9ff2569821eb.jpg\n",
      "File not found: ./detection_tunisian_food\\valid\\54_jpg.rf.f7b417e4cfbbbbdd537471db11d8cdf5.jpg\n",
      "File not found: ./detection_tunisian_food\\valid\\54_jpg.rf.f7b417e4cfbbbbdd537471db11d8cdf5.jpg\n",
      "File not found: ./detection_tunisian_food\\valid\\54_jpg.rf.f7b417e4cfbbbbdd537471db11d8cdf5.jpg\n",
      "File not found: ./detection_tunisian_food\\valid\\54_jpg.rf.f7b417e4cfbbbbdd537471db11d8cdf5.jpg\n",
      "Images have been organized into class folders.\n"
     ]
    }
   ],
   "source": [
    "import os\n",
    "import pandas as pd\n",
    "import shutil\n",
    "\n",
    "# Paths\n",
    "base_dir = './detection_tunisian_food'\n",
    "csv_file = os.path.join(base_dir, '_annotations.csv')\n",
    "image_dir = os.path.join(base_dir, 'valid')  # Assuming images are in 'test'\n",
    "\n",
    "# Load the CSV file\n",
    "df = pd.read_csv('./detection_tunisian_food/valid/_annotations.csv')\n",
    "\n",
    "\n",
    "# Create directories for each class\n",
    "class_names = df['class'].unique()\n",
    "for class_name in class_names:\n",
    "    class_dir = os.path.join(base_dir, class_name)\n",
    "    os.makedirs(class_dir, exist_ok=True)\n",
    "\n",
    "# Move images to respective class folders\n",
    "for _, row in df.iterrows():\n",
    "    filename = row['filename']\n",
    "    class_name = row['class']\n",
    "    src_path = os.path.join(image_dir, filename)\n",
    "    dest_path = os.path.join(base_dir, class_name, filename)\n",
    "    \n",
    "    # Check if the file exists before moving\n",
    "    if os.path.exists(src_path):\n",
    "        shutil.move(src_path, dest_path)\n",
    "    else:\n",
    "        print(f\"File not found: {src_path}\")\n",
    "\n",
    "print(\"Images have been organized into class folders.\")\n"
   ]
  },
  {
   "cell_type": "code",
   "execution_count": 8,
   "metadata": {},
   "outputs": [
    {
     "name": "stdout",
     "output_type": "stream",
     "text": [
      "Found 1035 images belonging to 14 classes.\n",
      "Found 219 images belonging to 14 classes.\n"
     ]
    }
   ],
   "source": [
    "# Define directories\n",
    "train_dir = './detection_tunisian_food/train'\n",
    "valid_dir = './detection_tunisian_food/valid'\n",
    "test_dir = './detection_tunisian_food/test'\n",
    "\n",
    "# Image dimensions\n",
    "IMG_HEIGHT, IMG_WIDTH = 224, 224\n",
    "BATCH_SIZE = 32\n",
    "\n",
    "# Data augmentation for training\n",
    "train_datagen = ImageDataGenerator(\n",
    "    rescale=1./255,\n",
    "    rotation_range=20,\n",
    "    width_shift_range=0.2,\n",
    "    height_shift_range=0.2,\n",
    "    shear_range=0.2,\n",
    "    zoom_range=0.2,\n",
    "    horizontal_flip=True,\n",
    "    fill_mode='nearest'\n",
    ")\n",
    "\n",
    "valid_datagen = ImageDataGenerator(rescale=1./255)\n",
    "\n",
    "# Load data\n",
    "train_generator = train_datagen.flow_from_directory(\n",
    "    train_dir,\n",
    "    target_size=(IMG_HEIGHT, IMG_WIDTH),\n",
    "    batch_size=BATCH_SIZE,\n",
    "    class_mode='categorical'\n",
    ")\n",
    "\n",
    "valid_generator = valid_datagen.flow_from_directory(\n",
    "    valid_dir,\n",
    "    target_size=(IMG_HEIGHT, IMG_WIDTH),\n",
    "    batch_size=BATCH_SIZE,\n",
    "    class_mode='categorical'\n",
    ")\n"
   ]
  },
  {
   "cell_type": "code",
   "execution_count": 12,
   "metadata": {},
   "outputs": [
    {
     "name": "stdout",
     "output_type": "stream",
     "text": [
      "Found 1035 images belonging to 14 classes.\n",
      "Found 219 images belonging to 14 classes.\n",
      "Found 143 images belonging to 14 classes.\n"
     ]
    }
   ],
   "source": [
    "# Définir les chemins\n",
    "base_dir = './detection_tunisian_food'\n",
    "train_dir = os.path.join(base_dir, 'train')\n",
    "valid_dir = os.path.join(base_dir, 'valid')\n",
    "test_dir = os.path.join(base_dir, 'test')\n",
    "\n",
    "# Générateurs de données avec augmentation\n",
    "train_datagen = ImageDataGenerator(\n",
    "    rescale=1.0/255,\n",
    "    rotation_range=20,\n",
    "    width_shift_range=0.2,\n",
    "    height_shift_range=0.2,\n",
    "    shear_range=0.2,\n",
    "    zoom_range=0.2,\n",
    "    horizontal_flip=True,\n",
    "    fill_mode='nearest'\n",
    ")\n",
    "\n",
    "valid_datagen = ImageDataGenerator(rescale=1.0/255)\n",
    "test_datagen = ImageDataGenerator(rescale=1.0/255)\n",
    "\n",
    "# Créer les générateurs\n",
    "train_data = train_datagen.flow_from_directory(\n",
    "    train_dir, \n",
    "    target_size=(224, 224), \n",
    "    batch_size=32, \n",
    "    class_mode='categorical'\n",
    ")\n",
    "\n",
    "valid_data = valid_datagen.flow_from_directory(\n",
    "    valid_dir, \n",
    "    target_size=(224, 224), \n",
    "    batch_size=32, \n",
    "    class_mode='categorical'\n",
    ")\n",
    "\n",
    "test_data = test_datagen.flow_from_directory(\n",
    "    test_dir, \n",
    "    target_size=(224, 224), \n",
    "    batch_size=32, \n",
    "    class_mode='categorical'\n",
    ")\n"
   ]
  },
  {
   "cell_type": "code",
   "execution_count": 9,
   "metadata": {},
   "outputs": [
    {
     "name": "stdout",
     "output_type": "stream",
     "text": [
      "Downloading data from https://storage.googleapis.com/tensorflow/keras-applications/mobilenet_v2/mobilenet_v2_weights_tf_dim_ordering_tf_kernels_1.0_224_no_top.h5\n",
      "\u001b[1m9406464/9406464\u001b[0m \u001b[32m━━━━━━━━━━━━━━━━━━━━\u001b[0m\u001b[37m\u001b[0m \u001b[1m11s\u001b[0m 1us/step\n"
     ]
    }
   ],
   "source": [
    "# Load MobileNetV2 without top layer\n",
    "base_model = MobileNetV2(weights='imagenet', include_top=False, input_shape=(IMG_HEIGHT, IMG_WIDTH, 3))\n",
    "\n",
    "# Freeze the base layers\n",
    "for layer in base_model.layers:\n",
    "    layer.trainable = False\n",
    "\n",
    "# Add custom head\n",
    "x = base_model.output\n",
    "x = GlobalAveragePooling2D()(x)\n",
    "x = Dropout(0.5)(x)\n",
    "x = Dense(128, activation='relu')(x)\n",
    "predictions = Dense(train_generator.num_classes, activation='softmax')(x)\n",
    "\n",
    "# Final model\n",
    "model = Model(inputs=base_model.input, outputs=predictions)\n"
   ]
  },
  {
   "cell_type": "code",
   "execution_count": 10,
   "metadata": {},
   "outputs": [
    {
     "name": "stderr",
     "output_type": "stream",
     "text": [
      "c:\\Users\\Zhome\\AppData\\Local\\Programs\\Python\\Python312\\Lib\\site-packages\\keras\\src\\trainers\\data_adapters\\py_dataset_adapter.py:121: UserWarning: Your `PyDataset` class should call `super().__init__(**kwargs)` in its constructor. `**kwargs` can include `workers`, `use_multiprocessing`, `max_queue_size`. Do not pass these arguments to `fit()`, as they will be ignored.\n",
      "  self._warn_if_super_not_called()\n"
     ]
    },
    {
     "name": "stdout",
     "output_type": "stream",
     "text": [
      "Epoch 1/10\n",
      "\u001b[1m32/32\u001b[0m \u001b[32m━━━━━━━━━━━━━━━━━━━━\u001b[0m\u001b[37m\u001b[0m \u001b[1m0s\u001b[0m 919ms/step - accuracy: 0.3853 - loss: 2.0774"
     ]
    },
    {
     "name": "stderr",
     "output_type": "stream",
     "text": [
      "c:\\Users\\Zhome\\AppData\\Local\\Programs\\Python\\Python312\\Lib\\site-packages\\keras\\src\\trainers\\data_adapters\\py_dataset_adapter.py:121: UserWarning: Your `PyDataset` class should call `super().__init__(**kwargs)` in its constructor. `**kwargs` can include `workers`, `use_multiprocessing`, `max_queue_size`. Do not pass these arguments to `fit()`, as they will be ignored.\n",
      "  self._warn_if_super_not_called()\n"
     ]
    },
    {
     "name": "stdout",
     "output_type": "stream",
     "text": [
      "\u001b[1m32/32\u001b[0m \u001b[32m━━━━━━━━━━━━━━━━━━━━\u001b[0m\u001b[37m\u001b[0m \u001b[1m51s\u001b[0m 1s/step - accuracy: 0.3888 - loss: 2.0635 - val_accuracy: 0.2188 - val_loss: 3.7755\n",
      "Epoch 2/10\n",
      "\u001b[1m 1/32\u001b[0m \u001b[37m━━━━━━━━━━━━━━━━━━━━\u001b[0m \u001b[1m17s\u001b[0m 566ms/step - accuracy: 0.5625 - loss: 1.1149"
     ]
    },
    {
     "name": "stderr",
     "output_type": "stream",
     "text": [
      "c:\\Users\\Zhome\\AppData\\Local\\Programs\\Python\\Python312\\Lib\\contextlib.py:158: UserWarning: Your input ran out of data; interrupting training. Make sure that your dataset or generator can generate at least `steps_per_epoch * epochs` batches. You may need to use the `.repeat()` function when building your dataset.\n",
      "  self.gen.throw(value)\n"
     ]
    },
    {
     "name": "stdout",
     "output_type": "stream",
     "text": [
      "\u001b[1m32/32\u001b[0m \u001b[32m━━━━━━━━━━━━━━━━━━━━\u001b[0m\u001b[37m\u001b[0m \u001b[1m3s\u001b[0m 67ms/step - accuracy: 0.5625 - loss: 1.1149 - val_accuracy: 0.2593 - val_loss: 3.3319\n",
      "Epoch 3/10\n",
      "\u001b[1m32/32\u001b[0m \u001b[32m━━━━━━━━━━━━━━━━━━━━\u001b[0m\u001b[37m\u001b[0m \u001b[1m69s\u001b[0m 2s/step - accuracy: 0.7022 - loss: 0.8675 - val_accuracy: 0.2969 - val_loss: 4.5961\n",
      "Epoch 4/10\n",
      "\u001b[1m32/32\u001b[0m \u001b[32m━━━━━━━━━━━━━━━━━━━━\u001b[0m\u001b[37m\u001b[0m \u001b[1m2s\u001b[0m 28ms/step - accuracy: 0.8125 - loss: 0.7286 - val_accuracy: 0.4815 - val_loss: 3.5430\n",
      "Epoch 5/10\n",
      "\u001b[1m32/32\u001b[0m \u001b[32m━━━━━━━━━━━━━━━━━━━━\u001b[0m\u001b[37m\u001b[0m \u001b[1m64s\u001b[0m 2s/step - accuracy: 0.8084 - loss: 0.5855 - val_accuracy: 0.3385 - val_loss: 4.8538\n",
      "Epoch 6/10\n",
      "\u001b[1m32/32\u001b[0m \u001b[32m━━━━━━━━━━━━━━━━━━━━\u001b[0m\u001b[37m\u001b[0m \u001b[1m1s\u001b[0m 23ms/step - accuracy: 0.9375 - loss: 0.3797 - val_accuracy: 0.4074 - val_loss: 4.1379\n",
      "Epoch 7/10\n",
      "\u001b[1m32/32\u001b[0m \u001b[32m━━━━━━━━━━━━━━━━━━━━\u001b[0m\u001b[37m\u001b[0m \u001b[1m80s\u001b[0m 3s/step - accuracy: 0.8587 - loss: 0.4168 - val_accuracy: 0.3438 - val_loss: 5.4450\n",
      "Epoch 8/10\n",
      "\u001b[1m32/32\u001b[0m \u001b[32m━━━━━━━━━━━━━━━━━━━━\u001b[0m\u001b[37m\u001b[0m \u001b[1m4s\u001b[0m 75ms/step - accuracy: 0.9375 - loss: 0.2065 - val_accuracy: 0.5185 - val_loss: 3.5328\n",
      "Epoch 9/10\n",
      "\u001b[1m32/32\u001b[0m \u001b[32m━━━━━━━━━━━━━━━━━━━━\u001b[0m\u001b[37m\u001b[0m \u001b[1m82s\u001b[0m 2s/step - accuracy: 0.8856 - loss: 0.3422 - val_accuracy: 0.3594 - val_loss: 5.4415\n",
      "Epoch 10/10\n",
      "\u001b[1m32/32\u001b[0m \u001b[32m━━━━━━━━━━━━━━━━━━━━\u001b[0m\u001b[37m\u001b[0m \u001b[1m3s\u001b[0m 49ms/step - accuracy: 0.8438 - loss: 0.4657 - val_accuracy: 0.4444 - val_loss: 5.7579\n"
     ]
    },
    {
     "name": "stderr",
     "output_type": "stream",
     "text": [
      "WARNING:absl:You are saving your model as an HDF5 file via `model.save()` or `keras.saving.save_model(model)`. This file format is considered legacy. We recommend using instead the native Keras format, e.g. `model.save('my_model.keras')` or `keras.saving.save_model(model, 'my_model.keras')`. \n"
     ]
    }
   ],
   "source": [
    "# Compile the model\n",
    "model.compile(optimizer=Adam(learning_rate=0.001),\n",
    "              loss='categorical_crossentropy',\n",
    "              metrics=['accuracy'])\n",
    "\n",
    "# Train the model\n",
    "history = model.fit(\n",
    "    train_generator,\n",
    "    validation_data=valid_generator,\n",
    "    epochs=10,\n",
    "    steps_per_epoch=train_generator.samples // BATCH_SIZE,\n",
    "    validation_steps=valid_generator.samples // BATCH_SIZE\n",
    ")\n",
    "\n",
    "# Save the initial model\n",
    "model.save('mobilenetv2_tunisian_food.h5')\n"
   ]
  },
  {
   "cell_type": "code",
   "execution_count": 11,
   "metadata": {},
   "outputs": [
    {
     "name": "stdout",
     "output_type": "stream",
     "text": [
      "Epoch 1/10\n",
      "\u001b[1m32/32\u001b[0m \u001b[32m━━━━━━━━━━━━━━━━━━━━\u001b[0m\u001b[37m\u001b[0m \u001b[1m68s\u001b[0m 1s/step - accuracy: 0.7897 - loss: 0.6475 - val_accuracy: 0.3854 - val_loss: 6.0480\n",
      "Epoch 2/10\n",
      "\u001b[1m32/32\u001b[0m \u001b[32m━━━━━━━━━━━━━━━━━━━━\u001b[0m\u001b[37m\u001b[0m \u001b[1m2s\u001b[0m 32ms/step - accuracy: 0.9375 - loss: 0.3063 - val_accuracy: 0.2963 - val_loss: 6.9025\n",
      "Epoch 3/10\n",
      "\u001b[1m32/32\u001b[0m \u001b[32m━━━━━━━━━━━━━━━━━━━━\u001b[0m\u001b[37m\u001b[0m \u001b[1m46s\u001b[0m 1s/step - accuracy: 0.9127 - loss: 0.2626 - val_accuracy: 0.3542 - val_loss: 7.2264\n",
      "Epoch 4/10\n",
      "\u001b[1m32/32\u001b[0m \u001b[32m━━━━━━━━━━━━━━━━━━━━\u001b[0m\u001b[37m\u001b[0m \u001b[1m3s\u001b[0m 25ms/step - accuracy: 0.9062 - loss: 0.2305 - val_accuracy: 0.4074 - val_loss: 5.0075\n",
      "Epoch 5/10\n",
      "\u001b[1m32/32\u001b[0m \u001b[32m━━━━━━━━━━━━━━━━━━━━\u001b[0m\u001b[37m\u001b[0m \u001b[1m48s\u001b[0m 1s/step - accuracy: 0.9648 - loss: 0.1478 - val_accuracy: 0.4167 - val_loss: 7.0596\n",
      "Epoch 6/10\n",
      "\u001b[1m32/32\u001b[0m \u001b[32m━━━━━━━━━━━━━━━━━━━━\u001b[0m\u001b[37m\u001b[0m \u001b[1m1s\u001b[0m 13ms/step - accuracy: 0.9062 - loss: 0.2444 - val_accuracy: 0.2963 - val_loss: 8.4632\n",
      "Epoch 7/10\n",
      "\u001b[1m32/32\u001b[0m \u001b[32m━━━━━━━━━━━━━━━━━━━━\u001b[0m\u001b[37m\u001b[0m \u001b[1m74s\u001b[0m 2s/step - accuracy: 0.9670 - loss: 0.1026 - val_accuracy: 0.3802 - val_loss: 7.8397\n",
      "Epoch 8/10\n",
      "\u001b[1m32/32\u001b[0m \u001b[32m━━━━━━━━━━━━━━━━━━━━\u001b[0m\u001b[37m\u001b[0m \u001b[1m2s\u001b[0m 25ms/step - accuracy: 0.9375 - loss: 0.1585 - val_accuracy: 0.4815 - val_loss: 6.1610\n",
      "Epoch 9/10\n",
      "\u001b[1m32/32\u001b[0m \u001b[32m━━━━━━━━━━━━━━━━━━━━\u001b[0m\u001b[37m\u001b[0m \u001b[1m72s\u001b[0m 2s/step - accuracy: 0.9793 - loss: 0.0652 - val_accuracy: 0.4271 - val_loss: 7.7479\n",
      "Epoch 10/10\n",
      "\u001b[1m32/32\u001b[0m \u001b[32m━━━━━━━━━━━━━━━━━━━━\u001b[0m\u001b[37m\u001b[0m \u001b[1m2s\u001b[0m 21ms/step - accuracy: 0.9375 - loss: 0.2792 - val_accuracy: 0.1852 - val_loss: 9.5643\n"
     ]
    },
    {
     "name": "stderr",
     "output_type": "stream",
     "text": [
      "WARNING:absl:You are saving your model as an HDF5 file via `model.save()` or `keras.saving.save_model(model)`. This file format is considered legacy. We recommend using instead the native Keras format, e.g. `model.save('my_model.keras')` or `keras.saving.save_model(model, 'my_model.keras')`. \n"
     ]
    }
   ],
   "source": [
    "# Unfreeze the top layers of the base model\n",
    "for layer in base_model.layers[-50:]:\n",
    "    layer.trainable = True\n",
    "\n",
    "# Recompile the model with a lower learning rate\n",
    "model.compile(optimizer=Adam(learning_rate=0.0001),\n",
    "              loss='categorical_crossentropy',\n",
    "              metrics=['accuracy'])\n",
    "\n",
    "# Fine-tune the model\n",
    "fine_tune_history = model.fit(\n",
    "    train_generator,\n",
    "    validation_data=valid_generator,\n",
    "    epochs=10,\n",
    "    steps_per_epoch=train_generator.samples // BATCH_SIZE,\n",
    "    validation_steps=valid_generator.samples // BATCH_SIZE\n",
    ")\n",
    "\n",
    "# Save the fine-tuned model\n",
    "model.save('mobilenetv2_tunisian_food_finetuned.h5')\n"
   ]
  },
  {
   "cell_type": "code",
   "execution_count": 13,
   "metadata": {},
   "outputs": [
    {
     "name": "stdout",
     "output_type": "stream",
     "text": [
      "Found 143 images belonging to 14 classes.\n",
      "\u001b[1m4/4\u001b[0m \u001b[32m━━━━━━━━━━━━━━━━━━━━\u001b[0m\u001b[37m\u001b[0m \u001b[1m2s\u001b[0m 459ms/step - accuracy: 0.2635 - loss: 9.9540  \n",
      "Test Accuracy: 0.38\n"
     ]
    }
   ],
   "source": [
    "# Load test data\n",
    "data_gen = ImageDataGenerator(\n",
    "    rescale=1.0 / 255,\n",
    "    rotation_range=40,  # More rotation\n",
    "    width_shift_range=0.3,  # Larger shift range\n",
    "    height_shift_range=0.3,\n",
    "    shear_range=0.3,\n",
    "    zoom_range=0.3,  # Stronger zoom\n",
    "    horizontal_flip=True,\n",
    "    vertical_flip=True,  # Add vertical flip\n",
    "    fill_mode='nearest'\n",
    ")\n",
    "\n",
    "\n",
    "# Evaluate\n",
    "test_loss, test_acc = model.evaluate(test_generator, steps=test_generator.samples // BATCH_SIZE)\n",
    "print(f'Test Accuracy: {test_acc:.2f}')\n"
   ]
  },
  {
   "cell_type": "code",
   "execution_count": 14,
   "metadata": {},
   "outputs": [
    {
     "data": {
      "image/png": "[encoded data removed]",
      "text/plain": [
       "<Figure size 1200x400 with 2 Axes>"
      ]
     },
     "metadata": {},
     "output_type": "display_data"
    }
   ],
   "source": [
    "# Plot training history\n",
    "plt.figure(figsize=(12, 4))\n",
    "plt.subplot(1, 2, 1)\n",
    "plt.plot(history.history['accuracy'], label='Train Accuracy')\n",
    "plt.plot(history.history['val_accuracy'], label='Val Accuracy')\n",
    "plt.legend()\n",
    "plt.title('Training and Validation Accuracy')\n",
    "\n",
    "plt.subplot(1, 2, 2)\n",
    "plt.plot(history.history['loss'], label='Train Loss')\n",
    "plt.plot(history.history['val_loss'], label='Val Loss')\n",
    "plt.legend()\n",
    "plt.title('Training and Validation Loss')\n",
    "\n",
    "plt.show()\n"
   ]
  }
 ],
 "metadata": {
  "kernelspec": {
   "display_name": "Python 3",
   "language": "python",
   "name": "python3"
  },
  "language_info": {
   "codemirror_mode": {
    "name": "ipython",
    "version": 3
   },
   "file_extension": ".py",
   "mimetype": "text/x-python",
   "name": "python",
   "nbconvert_exporter": "python",
   "pygments_lexer": "ipython3",
   "version": "3.12.4"
  },
  "orig_nbformat": 4
 },
 "nbformat": 4,
 "nbformat_minor": 2
}
